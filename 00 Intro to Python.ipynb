{
 "cells": [
  {
   "cell_type": "markdown",
   "metadata": {},
   "source": [
    "# Intro to Python<br>\n",
    "Since the dawn of time, a war has been raging between Python programmers and R programmers. Every time the war was coming to an end, a new battle surprised everyone. Today, you - the Chosen One - and me are going to try to stop this evil menace and bring balance to the Force.<br><br>\n",
    "Every person, like you and me, who wanted to start learning Data Science and Machine Learning could never have a clear way to the finish line. That being said, as soon as he/she wanted to start, the first problem arose: which programming language should I learn? R or Python?<br>\n",
    "R is better for statistical analysis which is why it was popular for this use case. Nonetheless, Python has a much bigger audience, a bigger community, is more flexible and easier to learn (being close to the English language). Python has a much wider variety of libraries used for Machine Learning, some of which we'll learn how to use here, like `numpy`, `pandas`, `matplotlib`, `seaborn` and `sci-kit learn`. Not only that, we're going to learn how to use `Jupyter Notebook` as our programming environment. What's really useful, as you're about to see, these notebooks can have both text <b>and</b> code in them, making this the perfect platform for learning programming and Machine Learning. <br><br>\n",
    "As with every programming language, we'll start with Hello World."
   ]
  },
  {
   "cell_type": "code",
   "execution_count": 1,
   "metadata": {},
   "outputs": [
    {
     "name": "stdout",
     "output_type": "stream",
     "text": [
      "Hello World!\n"
     ]
    }
   ],
   "source": [
    "print('Hello World!')"
   ]
  },
  {
   "cell_type": "markdown",
   "metadata": {},
   "source": [
    "## Data Types<br>\n",
    "\n",
    "What's interesting when it comes to Python, you don't need to specify the type of a variable, Python will figure that out on its own."
   ]
  },
  {
   "cell_type": "code",
   "execution_count": 6,
   "metadata": {},
   "outputs": [
    {
     "data": {
      "text/plain": [
       "(bool, int, float, str)"
      ]
     },
     "execution_count": 6,
     "metadata": {},
     "output_type": "execute_result"
    }
   ],
   "source": [
    "a = True\n",
    "b = 3\n",
    "c = 3.5\n",
    "d = '6.7'\n",
    "type(a), type(b), type(c), type(d)"
   ]
  },
  {
   "cell_type": "markdown",
   "metadata": {},
   "source": [
    "Arrays in Python are called <b>lists</b>. They can be traversed by the following pattern: list[start:end:step]. They can also contain multiple types."
   ]
  },
  {
   "cell_type": "code",
   "execution_count": 7,
   "metadata": {},
   "outputs": [
    {
     "data": {
      "text/plain": [
       "[True, 3, 3.5, '6.7']"
      ]
     },
     "execution_count": 7,
     "metadata": {},
     "output_type": "execute_result"
    }
   ],
   "source": [
    "l = [a, b, c, d]\n",
    "l"
   ]
  },
  {
   "cell_type": "code",
   "execution_count": 8,
   "metadata": {},
   "outputs": [
    {
     "data": {
      "text/plain": [
       "[1, 2, 3, 4, 5]"
      ]
     },
     "execution_count": 8,
     "metadata": {},
     "output_type": "execute_result"
    }
   ],
   "source": [
    "l = [1, 2, 3, 4, 5, 6, 7, 8, 9, 0]\n",
    "l[0:5]"
   ]
  },
  {
   "cell_type": "markdown",
   "metadata": {},
   "source": [
    "We can use negative numbers to represent index counting from an end of the list."
   ]
  },
  {
   "cell_type": "code",
   "execution_count": 10,
   "metadata": {},
   "outputs": [
    {
     "data": {
      "text/plain": [
       "([1, 3, 5, 7, 9], 9)"
      ]
     },
     "execution_count": 10,
     "metadata": {},
     "output_type": "execute_result"
    }
   ],
   "source": [
    "l[0:-1:2], l[-2]"
   ]
  },
  {
   "cell_type": "markdown",
   "metadata": {},
   "source": [
    "Another important and useful data type in Python is the <b>dictionary</b>. It contains key-value pairs."
   ]
  },
  {
   "cell_type": "code",
   "execution_count": 11,
   "metadata": {},
   "outputs": [
    {
     "name": "stdout",
     "output_type": "stream",
     "text": [
      "Sinisa\n"
     ]
    }
   ],
   "source": [
    "my_dict = {\n",
    "    \"Name\": \"Sinisa\",\n",
    "    \"LastName\": \"Stanivuk\",\n",
    "    \"Age\": \"20\"\n",
    "    }\n",
    "\n",
    "print(my_dict[\"Name\"])"
   ]
  },
  {
   "cell_type": "markdown",
   "metadata": {},
   "source": [
    "<b>Sets</b> are data types that have the same function as sets in mathematics - which means they don't have duplicates."
   ]
  },
  {
   "cell_type": "code",
   "execution_count": 12,
   "metadata": {},
   "outputs": [
    {
     "name": "stdout",
     "output_type": "stream",
     "text": [
      "{1, 2, 4, 6}\n"
     ]
    }
   ],
   "source": [
    "a = {1, 2, 1, 4, 4, 4, 6}\n",
    "print(a)"
   ]
  },
  {
   "cell_type": "markdown",
   "metadata": {},
   "source": [
    "The last data type would be a <b>tuple</b>. A tuple is a sequence like a list, but the main difference is that a tuple consists of unchangeable, or immutable Python objects (which can be integers, floats and so on)."
   ]
  },
  {
   "cell_type": "code",
   "execution_count": 15,
   "metadata": {},
   "outputs": [
    {
     "data": {
      "text/plain": [
       "(1, 2, 3, 4, 5)"
      ]
     },
     "execution_count": 15,
     "metadata": {},
     "output_type": "execute_result"
    }
   ],
   "source": [
    "t = (1, 2, 3, 4, 5)\n",
    "t"
   ]
  },
  {
   "cell_type": "markdown",
   "metadata": {},
   "source": [
    "## Loops and If Statements<br>\n",
    "As in every other programming language, loops existing in Python are: for, for-each and while.<br>\n",
    "Little side note, Python doesn't understand i++ or i--. You have to either manually increase the number by 1 or say i+=1 or i-=1. "
   ]
  },
  {
   "cell_type": "code",
   "execution_count": 16,
   "metadata": {},
   "outputs": [
    {
     "name": "stdout",
     "output_type": "stream",
     "text": [
      "0\n",
      "2\n",
      "4\n",
      "6\n",
      "8\n"
     ]
    }
   ],
   "source": [
    "for i in range(0, 10):\n",
    "    if(i % 2 == 0):\n",
    "        print(i)"
   ]
  },
  {
   "cell_type": "code",
   "execution_count": 19,
   "metadata": {},
   "outputs": [
    {
     "name": "stdout",
     "output_type": "stream",
     "text": [
      "9\n",
      "7\n",
      "5\n",
      "3\n",
      "1\n"
     ]
    }
   ],
   "source": [
    "i = 10\n",
    "while(i > 0):\n",
    "    i-=1\n",
    "    if(i % 2 == 0):\n",
    "        continue\n",
    "    print(i)"
   ]
  },
  {
   "cell_type": "code",
   "execution_count": 23,
   "metadata": {},
   "outputs": [
    {
     "name": "stdout",
     "output_type": "stream",
     "text": [
      "0\n"
     ]
    }
   ],
   "source": [
    "l = [1, 2, 3, 4, 5, 6, 7, 8, 9, 0]\n",
    "for num in l:\n",
    "    if(num == False):\n",
    "        print(num)"
   ]
  },
  {
   "cell_type": "markdown",
   "metadata": {},
   "source": [
    "## Functions<br>\n",
    "Only important things you need to know about functions are:\n",
    "1. you make them by using `def` reserved word\n",
    "2. everything that's indented by a tab is considered to be a part of a function\n",
    "3. function can return multiple outputs"
   ]
  },
  {
   "cell_type": "code",
   "execution_count": 30,
   "metadata": {},
   "outputs": [
    {
     "data": {
      "text/plain": [
       "(10, -2, 24, 0.6666666666666666)"
      ]
     },
     "execution_count": 30,
     "metadata": {},
     "output_type": "execute_result"
    }
   ],
   "source": [
    "def function(var1, var2):\n",
    "    return var1+var2, var1-var2, var1*var2, var1/var2\n",
    "\n",
    "a = 4\n",
    "b = 6\n",
    "function(a, b)"
   ]
  },
  {
   "cell_type": "markdown",
   "metadata": {},
   "source": [
    "***\n",
    "This is a bare minimum you'll need for this workshop, but Python has a much bigger variety of functions and functionalities, like working with files, object-oriented programming, working with errors and exceptions... I encourage you to learn these if you're interested, since they could prove highly useful.<br><br>\n",
    "\n",
    "## Additional Resources<br>\n",
    "1. Some of the Python exercises can be found on <a href='https://www.practicepython.org/'>this link</a>\n",
    "2. <a href='https://docs.python.org/3/tutorial/index.html'>Official tutorials</a> on the Python's website\n",
    "3. Python's <a href='https://docs.python.org/3/index.html'>official documentation</a>"
   ]
  },
  {
   "cell_type": "code",
   "execution_count": null,
   "metadata": {},
   "outputs": [],
   "source": []
  }
 ],
 "metadata": {
  "kernelspec": {
   "display_name": "Python 3",
   "language": "python",
   "name": "python3"
  },
  "language_info": {
   "codemirror_mode": {
    "name": "ipython",
    "version": 3
   },
   "file_extension": ".py",
   "mimetype": "text/x-python",
   "name": "python",
   "nbconvert_exporter": "python",
   "pygments_lexer": "ipython3",
   "version": "3.6.8"
  }
 },
 "nbformat": 4,
 "nbformat_minor": 2
}
