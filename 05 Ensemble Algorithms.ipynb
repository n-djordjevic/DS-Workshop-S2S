{
 "cells": [
  {
   "cell_type": "markdown",
   "metadata": {},
   "source": [
    "# Ensemble Algorithms<br>\n",
    "Up until this point, we used only one algorithm per model, but what if we could combine multiple models to get an even better result. Those algorithms are called <b>ensemble algorithms</b>.The first example that pops in our heads is a musical ensemble. By combining multiple different instruments, we get one perfect symphony.<br>\n",
    "Same goes for machine learning. We combine multiple models we previously learned into one model which can give us even better results.<br><br>\n",
    "Marquis de Condorcet introduced his jury theorem, which was based on the idea that multiple jurors (models) could better predict the final result than separately. \"If each member of the jury makes an independent judgement and the probability of the correct decision by each juror is more than 0.5, then the probability of the correct decision by the whole jury increases with the total number of jurors and tends to one. On the other hand, if the probability of being right is less than 0.5 for each juror, then the probability of the correct decision by the whole jury decreases with the number of jurors and tends to zero.\"<br><br>\n",
    "<b>Voting</b><br><br>\n",
    "Voting classifiers are classifiers which implement Condorcet's jury theorem. The final prediction is decided by the majority.<br>\n",
    "There are two types of voting, `soft` which uses probabilities of the models, and `hard` which uses final predictions (ex. 0s and 1s)."
   ]
  },
  {
   "cell_type": "code",
   "execution_count": 1,
   "metadata": {},
   "outputs": [],
   "source": [
    "import pandas as pd\n",
    "import numpy as np\n",
    "import warnings\n",
    "warnings.filterwarnings('ignore')\n",
    "\n",
    "df = pd.read_csv('data/churn.csv')"
   ]
  },
  {
   "cell_type": "code",
   "execution_count": 2,
   "metadata": {},
   "outputs": [
    {
     "data": {
      "text/html": [
       "<div>\n",
       "<style scoped>\n",
       "    .dataframe tbody tr th:only-of-type {\n",
       "        vertical-align: middle;\n",
       "    }\n",
       "\n",
       "    .dataframe tbody tr th {\n",
       "        vertical-align: top;\n",
       "    }\n",
       "\n",
       "    .dataframe thead th {\n",
       "        text-align: right;\n",
       "    }\n",
       "</style>\n",
       "<table border=\"1\" class=\"dataframe\">\n",
       "  <thead>\n",
       "    <tr style=\"text-align: right;\">\n",
       "      <th></th>\n",
       "      <th>Account Length</th>\n",
       "      <th>Int'l Plan</th>\n",
       "      <th>VMail Plan</th>\n",
       "      <th>VMail Message</th>\n",
       "      <th>Day Mins</th>\n",
       "      <th>Day Calls</th>\n",
       "      <th>Day Charge</th>\n",
       "      <th>Eve Mins</th>\n",
       "      <th>Eve Calls</th>\n",
       "      <th>Eve Charge</th>\n",
       "      <th>...</th>\n",
       "      <th>State_UT</th>\n",
       "      <th>State_VA</th>\n",
       "      <th>State_VT</th>\n",
       "      <th>State_WA</th>\n",
       "      <th>State_WI</th>\n",
       "      <th>State_WV</th>\n",
       "      <th>State_WY</th>\n",
       "      <th>Area Code_408</th>\n",
       "      <th>Area Code_415</th>\n",
       "      <th>Area Code_510</th>\n",
       "    </tr>\n",
       "    <tr>\n",
       "      <th>Phone</th>\n",
       "      <th></th>\n",
       "      <th></th>\n",
       "      <th></th>\n",
       "      <th></th>\n",
       "      <th></th>\n",
       "      <th></th>\n",
       "      <th></th>\n",
       "      <th></th>\n",
       "      <th></th>\n",
       "      <th></th>\n",
       "      <th></th>\n",
       "      <th></th>\n",
       "      <th></th>\n",
       "      <th></th>\n",
       "      <th></th>\n",
       "      <th></th>\n",
       "      <th></th>\n",
       "      <th></th>\n",
       "      <th></th>\n",
       "      <th></th>\n",
       "      <th></th>\n",
       "    </tr>\n",
       "  </thead>\n",
       "  <tbody>\n",
       "    <tr>\n",
       "      <th>382-4657</th>\n",
       "      <td>128</td>\n",
       "      <td>0</td>\n",
       "      <td>1</td>\n",
       "      <td>25</td>\n",
       "      <td>265.1</td>\n",
       "      <td>110</td>\n",
       "      <td>45.07</td>\n",
       "      <td>197.4</td>\n",
       "      <td>99</td>\n",
       "      <td>16.78</td>\n",
       "      <td>...</td>\n",
       "      <td>0</td>\n",
       "      <td>0</td>\n",
       "      <td>0</td>\n",
       "      <td>0</td>\n",
       "      <td>0</td>\n",
       "      <td>0</td>\n",
       "      <td>0</td>\n",
       "      <td>0</td>\n",
       "      <td>1</td>\n",
       "      <td>0</td>\n",
       "    </tr>\n",
       "    <tr>\n",
       "      <th>371-7191</th>\n",
       "      <td>107</td>\n",
       "      <td>0</td>\n",
       "      <td>1</td>\n",
       "      <td>26</td>\n",
       "      <td>161.6</td>\n",
       "      <td>123</td>\n",
       "      <td>27.47</td>\n",
       "      <td>195.5</td>\n",
       "      <td>103</td>\n",
       "      <td>16.62</td>\n",
       "      <td>...</td>\n",
       "      <td>0</td>\n",
       "      <td>0</td>\n",
       "      <td>0</td>\n",
       "      <td>0</td>\n",
       "      <td>0</td>\n",
       "      <td>0</td>\n",
       "      <td>0</td>\n",
       "      <td>0</td>\n",
       "      <td>1</td>\n",
       "      <td>0</td>\n",
       "    </tr>\n",
       "    <tr>\n",
       "      <th>358-1921</th>\n",
       "      <td>137</td>\n",
       "      <td>0</td>\n",
       "      <td>0</td>\n",
       "      <td>0</td>\n",
       "      <td>243.4</td>\n",
       "      <td>114</td>\n",
       "      <td>41.38</td>\n",
       "      <td>121.2</td>\n",
       "      <td>110</td>\n",
       "      <td>10.30</td>\n",
       "      <td>...</td>\n",
       "      <td>0</td>\n",
       "      <td>0</td>\n",
       "      <td>0</td>\n",
       "      <td>0</td>\n",
       "      <td>0</td>\n",
       "      <td>0</td>\n",
       "      <td>0</td>\n",
       "      <td>0</td>\n",
       "      <td>1</td>\n",
       "      <td>0</td>\n",
       "    </tr>\n",
       "    <tr>\n",
       "      <th>375-9999</th>\n",
       "      <td>84</td>\n",
       "      <td>1</td>\n",
       "      <td>0</td>\n",
       "      <td>0</td>\n",
       "      <td>299.4</td>\n",
       "      <td>71</td>\n",
       "      <td>50.90</td>\n",
       "      <td>61.9</td>\n",
       "      <td>88</td>\n",
       "      <td>5.26</td>\n",
       "      <td>...</td>\n",
       "      <td>0</td>\n",
       "      <td>0</td>\n",
       "      <td>0</td>\n",
       "      <td>0</td>\n",
       "      <td>0</td>\n",
       "      <td>0</td>\n",
       "      <td>0</td>\n",
       "      <td>1</td>\n",
       "      <td>0</td>\n",
       "      <td>0</td>\n",
       "    </tr>\n",
       "    <tr>\n",
       "      <th>330-6626</th>\n",
       "      <td>75</td>\n",
       "      <td>1</td>\n",
       "      <td>0</td>\n",
       "      <td>0</td>\n",
       "      <td>166.7</td>\n",
       "      <td>113</td>\n",
       "      <td>28.34</td>\n",
       "      <td>148.3</td>\n",
       "      <td>122</td>\n",
       "      <td>12.61</td>\n",
       "      <td>...</td>\n",
       "      <td>0</td>\n",
       "      <td>0</td>\n",
       "      <td>0</td>\n",
       "      <td>0</td>\n",
       "      <td>0</td>\n",
       "      <td>0</td>\n",
       "      <td>0</td>\n",
       "      <td>0</td>\n",
       "      <td>1</td>\n",
       "      <td>0</td>\n",
       "    </tr>\n",
       "  </tbody>\n",
       "</table>\n",
       "<p>5 rows × 71 columns</p>\n",
       "</div>"
      ],
      "text/plain": [
       "          Account Length  Int'l Plan  VMail Plan  VMail Message  Day Mins  \\\n",
       "Phone                                                                       \n",
       "382-4657             128           0           1             25     265.1   \n",
       "371-7191             107           0           1             26     161.6   \n",
       "358-1921             137           0           0              0     243.4   \n",
       "375-9999              84           1           0              0     299.4   \n",
       "330-6626              75           1           0              0     166.7   \n",
       "\n",
       "          Day Calls  Day Charge  Eve Mins  Eve Calls  Eve Charge  ...  \\\n",
       "Phone                                                             ...   \n",
       "382-4657        110       45.07     197.4         99       16.78  ...   \n",
       "371-7191        123       27.47     195.5        103       16.62  ...   \n",
       "358-1921        114       41.38     121.2        110       10.30  ...   \n",
       "375-9999         71       50.90      61.9         88        5.26  ...   \n",
       "330-6626        113       28.34     148.3        122       12.61  ...   \n",
       "\n",
       "          State_UT  State_VA  State_VT  State_WA  State_WI  State_WV  \\\n",
       "Phone                                                                  \n",
       "382-4657         0         0         0         0         0         0   \n",
       "371-7191         0         0         0         0         0         0   \n",
       "358-1921         0         0         0         0         0         0   \n",
       "375-9999         0         0         0         0         0         0   \n",
       "330-6626         0         0         0         0         0         0   \n",
       "\n",
       "          State_WY  Area Code_408  Area Code_415  Area Code_510  \n",
       "Phone                                                            \n",
       "382-4657         0              0              1              0  \n",
       "371-7191         0              0              1              0  \n",
       "358-1921         0              0              1              0  \n",
       "375-9999         0              1              0              0  \n",
       "330-6626         0              0              1              0  \n",
       "\n",
       "[5 rows x 71 columns]"
      ]
     },
     "execution_count": 2,
     "metadata": {},
     "output_type": "execute_result"
    }
   ],
   "source": [
    "X = df.iloc[:, :-1]\n",
    "y = df.iloc[:, -1]\n",
    "\n",
    "X.set_index(['Phone'], inplace=True)\n",
    "\n",
    "X['Int\\'l Plan'] = X['Int\\'l Plan'].map({'no': 0, 'yes': 1})\n",
    "X['VMail Plan'] = X['VMail Plan'].map({'no': 0, 'yes': 1})\n",
    "\n",
    "X = pd.get_dummies(X, columns=['State', 'Area Code'])\n",
    "\n",
    "X.head()"
   ]
  },
  {
   "cell_type": "code",
   "execution_count": 3,
   "metadata": {},
   "outputs": [],
   "source": [
    "from sklearn.tree import DecisionTreeClassifier\n",
    "from sklearn.linear_model import LogisticRegression\n",
    "\n",
    "from sklearn.ensemble import VotingClassifier\n",
    "\n",
    "from sklearn.model_selection import cross_val_score\n",
    "\n",
    "model_tree = DecisionTreeClassifier()\n",
    "model_lr = LogisticRegression()\n",
    "model = VotingClassifier(voting='soft', estimators=[('tree', model_tree), ('lr', model_lr)])"
   ]
  },
  {
   "cell_type": "code",
   "execution_count": 4,
   "metadata": {},
   "outputs": [
    {
     "name": "stdout",
     "output_type": "stream",
     "text": [
      "Tree: 0.8281482724668814\n",
      "LR: 0.8081047857739587\n",
      "Voting: 0.8897718999880653\n"
     ]
    }
   ],
   "source": [
    "for model, label in zip([model_tree, model_lr, model], ['Tree', 'LR', 'Voting']):\n",
    "    scores = cross_val_score(model, X, y, cv=10, scoring='roc_auc')\n",
    "    print(f'{label}: {scores.mean()}')"
   ]
  },
  {
   "cell_type": "markdown",
   "metadata": {},
   "source": [
    "## Bagging<br>\n",
    "Bagging (bootstrap aggregation) is an ensemble approach which uses existing instances to create new, similar but different instances. Each instance can be resampled multiple times. After this process, we have multiple subsets of new instances and we use models for predictions on each of the new subsets.<br>\n",
    "<img src='img/bagging.jpeg'>"
   ]
  },
  {
   "cell_type": "code",
   "execution_count": 10,
   "metadata": {},
   "outputs": [
    {
     "data": {
      "text/plain": [
       "0.89375082050364"
      ]
     },
     "execution_count": 10,
     "metadata": {},
     "output_type": "execute_result"
    }
   ],
   "source": [
    "from sklearn.ensemble import BaggingClassifier\n",
    "\n",
    "model = BaggingClassifier(base_estimator=model_tree, bootstrap=10, \n",
    "                          max_samples=0.5, max_features=40)\n",
    "\n",
    "scores = cross_val_score(model, X, y, cv=10, scoring='roc_auc')\n",
    "scores.mean()"
   ]
  },
  {
   "cell_type": "markdown",
   "metadata": {},
   "source": [
    "One famous algorithm which is based on bagging is called Random Forest. What is surprising, it uses Decision Tree as it's base model.<br>\n",
    "Another neat functionality of Random Forest is `feature importance` which returns the importance of each feature on the final prediction.<br><br>\n",
    "Some of the more important hyperparameters of the Random Forest algorithm are:\n",
    "1. `n_estimators` - number of Decision Trees used\n",
    "2. `max_features` - the maximum number of features used by each Decision Tree (these are taken randomly)\n",
    "3. `max_depth` - the depth of each Decision Tree, same as in single Decision Trees\n",
    "4. `criterion` - a function used to measure the quality of a split in a Decision Tree"
   ]
  },
  {
   "cell_type": "code",
   "execution_count": 11,
   "metadata": {},
   "outputs": [
    {
     "data": {
      "text/plain": [
       "0.9105693549349564"
      ]
     },
     "execution_count": 11,
     "metadata": {},
     "output_type": "execute_result"
    }
   ],
   "source": [
    "from sklearn.ensemble import RandomForestClassifier\n",
    "\n",
    "model = RandomForestClassifier(n_estimators=100)\n",
    "\n",
    "scores = cross_val_score(model, X, y, cv = 10, scoring='roc_auc')\n",
    "scores.mean()"
   ]
  },
  {
   "cell_type": "markdown",
   "metadata": {},
   "source": [
    "Now we can plot feature importances and see how much they affect the final predictions."
   ]
  },
  {
   "cell_type": "code",
   "execution_count": 12,
   "metadata": {},
   "outputs": [
    {
     "data": {
      "text/plain": [
       "<matplotlib.axes._subplots.AxesSubplot at 0x7fdd30da2eb8>"
      ]
     },
     "execution_count": 12,
     "metadata": {},
     "output_type": "execute_result"
    },
    {
     "data": {
      "image/png": "[encoded data removed]",
      "text/plain": [
       "<Figure size 1440x1440 with 1 Axes>"
      ]
     },
     "metadata": {
      "needs_background": "light"
     },
     "output_type": "display_data"
    }
   ],
   "source": [
    "import seaborn as sns\n",
    "%matplotlib inline\n",
    "\n",
    "model.fit(X, y)\n",
    "\n",
    "coefs = pd.DataFrame({'att':X.columns, 'coef':model.feature_importances_}).sort_values(by='coef',ascending=True).replace(0,np.nan).dropna()\n",
    "coefs.replace(0,np.nan).dropna().plot.barh(x='att',y='coef',figsize=(20, 20))"
   ]
  },
  {
   "cell_type": "markdown",
   "metadata": {},
   "source": [
    "## Boosting<br>\n",
    "Boosting is a very powerful ensemble approach which can be described very simply, in just 4 steps:<br>\n",
    "1. Learn a model\n",
    "2. Subset the instances model predicted wrongly\n",
    "3. Increase the importance of said subset\n",
    "4. Repeat steps 1-3"
   ]
  },
  {
   "cell_type": "markdown",
   "metadata": {},
   "source": [
    "The following algorithm is called Adaptive Boosting or AdaBoost for short and it does what we previously explained."
   ]
  },
  {
   "cell_type": "code",
   "execution_count": 13,
   "metadata": {},
   "outputs": [
    {
     "data": {
      "text/plain": [
       "0.916421410669531"
      ]
     },
     "execution_count": 13,
     "metadata": {},
     "output_type": "execute_result"
    }
   ],
   "source": [
    "from sklearn.ensemble import AdaBoostClassifier\n",
    "\n",
    "model_tree = DecisionTreeClassifier()\n",
    "\n",
    "model_boost = AdaBoostClassifier(base_estimator=model_tree, n_estimators=50)\n",
    "\n",
    "scores = cross_val_score(model, X, y, cv = 10, scoring='roc_auc')\n",
    "scores.mean()"
   ]
  },
  {
   "cell_type": "markdown",
   "metadata": {},
   "source": [
    "One of the most powerful algorithms in this category is <b>Gradient Boosting Tree</b>, which is one of the most popular algorithms used by the winning teams in data competitions and datathons.<br>\n",
    "Some of the hyperparameters used are:<br>\n",
    "1. `learning_rate` - shrinks the contribution of each tree\n",
    "2. `n_estimators` - number of trees (boosting steps) to perform\n",
    "3. `subsample` - the percentage of examples to use for learning\n",
    "4. `max_depth` - the depth of the tree\n",
    "5. and other Decision Tree hyperparameters"
   ]
  },
  {
   "cell_type": "code",
   "execution_count": 14,
   "metadata": {},
   "outputs": [
    {
     "data": {
      "text/plain": [
       "0.9152959780403389"
      ]
     },
     "execution_count": 14,
     "metadata": {},
     "output_type": "execute_result"
    }
   ],
   "source": [
    "from sklearn.ensemble import GradientBoostingClassifier\n",
    "\n",
    "model = GradientBoostingClassifier(n_estimators=100)\n",
    "\n",
    "scores = cross_val_score(model, X, y, cv = 10, scoring='roc_auc')\n",
    "scores.mean()"
   ]
  },
  {
   "cell_type": "markdown",
   "metadata": {},
   "source": [
    "## Additional Resources<br>\n",
    "1. Ensemble methods on sklearn <a href='https://scikit-learn.org/stable/modules/ensemble.html#ensemble'>documentation page</a>\n",
    "2. Original <a href='https://www.stat.berkeley.edu/~breiman/randomforest2001.pdf'>paper</a> on Random Forests\n",
    "3. Chapter 15 of the book <a href='https://web.stanford.edu/~hastie/ElemStatLearn//'>“Elements of Statistical Learning”</a> by Jerome H. Friedman, Robert Tibshirani, and Trevor Hastie could prove useful\n",
    "4. Excellent in-depth <a href='https://towardsdatascience.com/ensemble-methods-bagging-boosting-and-stacking-c9214a10a205'>article</a> on TowardsDataScience about Bagging, Boosting and Stacking and some of the algorithms we used"
   ]
  }
 ],
 "metadata": {
  "kernelspec": {
   "display_name": "Python 3",
   "language": "python",
   "name": "python3"
  },
  "language_info": {
   "codemirror_mode": {
    "name": "ipython",
    "version": 3
   },
   "file_extension": ".py",
   "mimetype": "text/x-python",
   "name": "python",
   "nbconvert_exporter": "python",
   "pygments_lexer": "ipython3",
   "version": "3.6.8"
  }
 },
 "nbformat": 4,
 "nbformat_minor": 2
}
